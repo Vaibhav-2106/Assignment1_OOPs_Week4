{
 "cells": [
  {
   "cell_type": "markdown",
   "id": "56f4fc3b-2d80-43f6-b89e-9e8d888c9107",
   "metadata": {},
   "source": [
    "### OOP Assignment-1 week4 solution"
   ]
  },
  {
   "cell_type": "markdown",
   "id": "bf902911-a101-464c-afa5-c81eda8ef228",
   "metadata": {},
   "source": [
    "Q1 ."
   ]
  },
  {
   "cell_type": "markdown",
   "id": "2eae22a0-7f46-4a70-bfa4-d045edd683ee",
   "metadata": {},
   "source": [
    "Class - \n",
    "In Object oriented programming class is a blue print to creating objects in which number of methods/functions are define and which are belongs to the object define correspond to the class.\n",
    "\n",
    "Object - \n",
    "Object is an instance of a class. When we make the class then we create object/instance of the class. "
   ]
  },
  {
   "cell_type": "code",
   "execution_count": 4,
   "id": "f7c13d56-6501-4892-b93b-64a62909fb0c",
   "metadata": {},
   "outputs": [],
   "source": [
    "class life :       #creating class\n",
    "    \n",
    "    def guds(self) :                    #define methods\n",
    "        print('Everything is good')\n",
    "        \n",
    "    def bads(self) :\n",
    "        print('Something is wrong')\n",
    "        \n",
    "        \n",
    "Jeevan = life()                          #defining instance/object of the class"
   ]
  },
  {
   "cell_type": "code",
   "execution_count": 6,
   "id": "7117232c-fb73-4990-847e-c26177ec3f74",
   "metadata": {},
   "outputs": [
    {
     "name": "stdout",
     "output_type": "stream",
     "text": [
      "Everything is good\n"
     ]
    }
   ],
   "source": [
    "Jeevan.guds()"
   ]
  },
  {
   "cell_type": "code",
   "execution_count": 7,
   "id": "031b4db6-17b6-4dd7-b4c7-556da225e861",
   "metadata": {},
   "outputs": [
    {
     "name": "stdout",
     "output_type": "stream",
     "text": [
      "Something is wrong\n"
     ]
    }
   ],
   "source": [
    "Jeevan.bads()"
   ]
  },
  {
   "cell_type": "markdown",
   "id": "116de27e-1bfd-403c-9a4a-f302782c0eca",
   "metadata": {},
   "source": [
    "Q2 ."
   ]
  },
  {
   "cell_type": "markdown",
   "id": "0bc8f5e8-414a-4f13-869d-fd2f9a2a544f",
   "metadata": {},
   "source": [
    "Four pillars of the OOP's\n",
    "* Encapsulation - To protect the data from external user / security purpose\n",
    "* Abstraction - Ability to hide the details\n",
    "* Inheritance - Ability to define methods or functions from superclass to subclass\n",
    "* Polymorphism - Different classes having same interface or method."
   ]
  },
  {
   "cell_type": "markdown",
   "id": "befc6f29-3332-42b4-8611-9c1666e1c881",
   "metadata": {},
   "source": [
    "Q3 . "
   ]
  },
  {
   "cell_type": "markdown",
   "id": "184c8711-3ea8-4437-8e6d-62cd74e4cf7b",
   "metadata": {},
   "source": [
    "In python __init__() is used to initialise the state of objects by assigning the initial values to it's attributes."
   ]
  },
  {
   "cell_type": "code",
   "execution_count": 13,
   "id": "65e6187c-38b8-43b6-9162-d2e852031aeb",
   "metadata": {},
   "outputs": [
    {
     "name": "stdout",
     "output_type": "stream",
     "text": [
      "In pyhton __init__() method is available\n",
      "__init__() initialise the state of object\n"
     ]
    }
   ],
   "source": [
    "class Python :\n",
    "    \n",
    "    def __init__(self, constructor) :\n",
    "        self.constr = constructor\n",
    "        print(f'In pyhton {self.constr} method is available')\n",
    "        print(f'{self.constr} initialise the state of object')\n",
    "        \n",
    "const = Python(\"__init__()\")\n"
   ]
  },
  {
   "cell_type": "markdown",
   "id": "131f50b6-8a52-43e8-ad9a-0e2fd2a1a1a6",
   "metadata": {},
   "source": [
    "Q4 .\n",
    "\n",
    "Self is used in OOPs to refer the method to the class, which will give us a access of attributes and methods of the class."
   ]
  },
  {
   "cell_type": "markdown",
   "id": "c82e3613-129f-4def-8019-d34f38430459",
   "metadata": {},
   "source": [
    "Q5 .\n",
    "\n",
    "Inheritance - One or more class can inherit from one or more class that concept is inheritance. When a class inherit from any base class that class is called super class and the class which inherit from the super class is subclass.\n",
    "Advantage - Code reusebility\n",
    "\n",
    "* Single Inheritance - a single class inherit from a single class. \n",
    "* Multiple Inheritance - a one class inherit from the one or more super class.\n",
    "* Multilevel Inheritance - Say class B inherit from the class A and class C inherit from class B so class C have access to those methods which are created in class A along with class B.\n",
    "* Hierarchical Inheritance - In this inheritance, more than one subclass is created from a single super class and further sub classes act as super classes for more than one sub class.\n"
   ]
  },
  {
   "cell_type": "code",
   "execution_count": 15,
   "id": "28f7c059-43c9-476e-ab59-7140d37f3799",
   "metadata": {},
   "outputs": [],
   "source": [
    "# Single Inheritance\n",
    "class A :\n",
    "    \n",
    "    def method_classA(self) :\n",
    "        print('This is method from class A')\n",
    "        \n",
    "class B(A) :\n",
    "    \n",
    "    def  method_classB(self) :\n",
    "        print('This is method from class B')\n",
    "        \n",
    "# Multiple Inheritance\n",
    "\n",
    "class P :\n",
    "    \n",
    "    def method_classP(self) :\n",
    "        print('This is method from class P')\n",
    "\n",
    "class Q :\n",
    "    \n",
    "    def method_classQ(self) :\n",
    "        print('This is method from class Q')\n",
    "        \n",
    "class R(P,Q) :\n",
    "    \n",
    "    def method_classR(self) :\n",
    "        print('This is method from class R')\n",
    "        \n",
    "# Multilevel Inheritance\n",
    "\n",
    "class X :\n",
    "    \n",
    "    def method_classX(self) :\n",
    "        print('This is method from class X')\n",
    "        \n",
    "class Y(X) :\n",
    "    \n",
    "    def method_classY(self) :\n",
    "        print('This is method from class Y')\n",
    "        \n",
    "class Z(Y) :\n",
    "    \n",
    "    def method_classZ(self) :\n",
    "        print('This is method from class Z')\n",
    "        \n",
    "        \n",
    "ClassB = B()\n",
    "ClassR = R()\n",
    "ClassZ = Z()\n",
    "        "
   ]
  },
  {
   "cell_type": "code",
   "execution_count": 19,
   "id": "009c6a79-f56d-4fc0-b8bd-933632a128b4",
   "metadata": {},
   "outputs": [],
   "source": [
    "# Hierarchical Inheritance\n",
    "\n",
    "class grandParent :\n",
    "    \n",
    "    def method_grandparent(self) :\n",
    "        print('This is method from grand parent')\n",
    "        \n",
    "#####################################################################################       \n",
    "        \n",
    "class Parent1(grandParent) :\n",
    "    \n",
    "    def method_Parent1(self) :\n",
    "        print('This is method from Parent1')\n",
    "        \n",
    "class child1_parent1(Parent1) :\n",
    "    \n",
    "    def method_child1_parent1(self) :\n",
    "        print('This is method from child1 of parent1')\n",
    "        \n",
    "class child2_parent1(Parent1) :\n",
    "    \n",
    "    def method_child2_parent1(self) :\n",
    "        print('This is method from child2 of parent1')\n",
    "        \n",
    "#####################################################################################\n",
    "    \n",
    "class Parent2(grandParent) :\n",
    "    \n",
    "    def method_Parent2(self) :\n",
    "        print('This is method from Parent2')\n",
    "        \n",
    "class child1_parent2(Parent2) :\n",
    "    \n",
    "    def method_child1_parent2(self) :\n",
    "        print('This is method from child1 of parent2')\n",
    "        \n"
   ]
  },
  {
   "cell_type": "code",
   "execution_count": null,
   "id": "2587bb0a-a94a-444b-855b-32f4994226bf",
   "metadata": {},
   "outputs": [],
   "source": []
  }
 ],
 "metadata": {
  "kernelspec": {
   "display_name": "Python 3 (ipykernel)",
   "language": "python",
   "name": "python3"
  },
  "language_info": {
   "codemirror_mode": {
    "name": "ipython",
    "version": 3
   },
   "file_extension": ".py",
   "mimetype": "text/x-python",
   "name": "python",
   "nbconvert_exporter": "python",
   "pygments_lexer": "ipython3",
   "version": "3.10.8"
  }
 },
 "nbformat": 4,
 "nbformat_minor": 5
}
